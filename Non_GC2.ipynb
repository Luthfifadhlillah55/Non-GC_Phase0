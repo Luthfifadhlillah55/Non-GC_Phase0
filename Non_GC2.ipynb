{
 "cells": [
  {
   "cell_type": "markdown",
   "metadata": {},
   "source": [
    "# Konversi suhu dari kelvin ke celcius, dan celcius ke kelvin"
   ]
  },
  {
   "cell_type": "markdown",
   "metadata": {},
   "source": [
    "## A. Konversi Celcius & Kelvin"
   ]
  },
  {
   "cell_type": "code",
   "execution_count": 26,
   "metadata": {},
   "outputs": [],
   "source": [
    "def suhu_c_k(suhu, skala):\n",
    "    skala_a = skala.lower()\n",
    "    if skala_a == 'c' or skala_a == 'celsius':\n",
    "        # konversi dari celsius ke kelvin\n",
    "        suhu_b = round(suhu + 273, 2)\n",
    "        skala_b = 'K'\n",
    "    elif skala_a == 'k' or skala_a == 'kelvin':\n",
    "        # konversi dari kelvin ke celsius\n",
    "        suhu_b = round(suhu - 273.15, 2)\n",
    "        skala_b = 'C'\n",
    "    else:\n",
    "        # kirim pesan kesalahan jika input tidak dalam celsius atau kelvin\n",
    "        return 'skala tidak dalam celcius atau kelvin'\n",
    "    return suhu_b, skala_b"
   ]
  },
  {
   "cell_type": "code",
   "execution_count": 32,
   "metadata": {},
   "outputs": [
    {
     "name": "stdout",
     "output_type": "stream",
     "text": [
      "20 C -> 293 K\n",
      "210 K -> -63.15 C\n",
      "40 F -> skala tidak dalam celcius atau kelvin\n"
     ]
    }
   ],
   "source": [
    "print('20 C ->', suhu_c_k(20, 'C')[0], suhu_c_k(100, 'C')[1])\n",
    "print('210 K ->', suhu_c_k(210, 'kelvin')[0], suhu_c_k(300, 'kelvin')[1])\n",
    "print('40 F ->', suhu_c_k(40, 'f'))"
   ]
  },
  {
   "cell_type": "markdown",
   "metadata": {},
   "source": [
    "## B. Konversi Fahrenheit"
   ]
  },
  {
   "cell_type": "markdown",
   "metadata": {},
   "source": [
    "### To Fahrenheit"
   ]
  },
  {
   "cell_type": "code",
   "execution_count": 28,
   "metadata": {},
   "outputs": [],
   "source": [
    "def suhu_to_f(suhu, skala):\n",
    "    skala_a = skala.lower()\n",
    "    if skala_a == 'c' or skala_a == 'celsius':\n",
    "        # konversi dari celsius ke fahrenheit\n",
    "        suhu_b = round(((9/5) * suhu) + 32, 2)\n",
    "    elif skala_a == 'k' or skala_a == 'kelvin':\n",
    "        # konversi dari kelvin ke fahrenheit\n",
    "        suhu_b = round((9/5) * (suhu - 273.15) + 32, 2)\n",
    "    else:\n",
    "        # kirim pesan kesalahan jika input tidak dalam celsius atau kelvin\n",
    "        return 'invalid'\n",
    "    return suhu_b"
   ]
  },
  {
   "cell_type": "code",
   "execution_count": 31,
   "metadata": {},
   "outputs": [
    {
     "name": "stdout",
     "output_type": "stream",
     "text": [
      "76 C -> 168.8 F\n",
      "254 K -> -2.47 F\n",
      "75 R -> invalid\n"
     ]
    }
   ],
   "source": [
    "print('76 C ->', suhu_to_f(76, 'C'), 'F')\n",
    "print('254 K ->', suhu_to_f(254, 'kELVIN'), 'F')\n",
    "print('75 R ->', suhu_to_f(75, 'r'))"
   ]
  },
  {
   "cell_type": "markdown",
   "metadata": {},
   "source": [
    "### From Fahrenheit"
   ]
  },
  {
   "cell_type": "code",
   "execution_count": 46,
   "metadata": {},
   "outputs": [],
   "source": [
    "def suhu_from_f(suhu, skala):\n",
    "    skala_a = skala.lower()\n",
    "    if skala_a == 'c' or skala_a == 'celsius':\n",
    "        # convert from fahrenheit to celcius\n",
    "        suhu_b = round((5/9) * (suhu - 32), 2)\n",
    "    elif skala_a == 'k' or skala_a == 'kelvin':\n",
    "        # convert from fahrenheit to kelvin\n",
    "        suhu_b = round((5/9) * (suhu - 32) + 273, 2)\n",
    "    else:\n",
    "        # send an error message if expected output is not in celsius or kelvin\n",
    "        return 'skala yang diharapkan tidak dalam celsius atau kelvin'\n",
    "    return suhu_b, skala.capitalize()"
   ]
  },
  {
   "cell_type": "code",
   "execution_count": 50,
   "metadata": {},
   "outputs": [
    {
     "name": "stdout",
     "output_type": "stream",
     "text": [
      "85 F to celsius -> 29.44 Celsius\n",
      "200 F to kelvin -> 366.33 K\n",
      "80 F to reamur ->  skala yang diharapkan tidak dalam celsius atau kelvin\n"
     ]
    }
   ],
   "source": [
    "print('85 F to celsius ->', suhu_from_f(85, 'Celsius')[0], suhu_from_f(85, 'Celsius')[1])\n",
    "print('200 F to kelvin ->', suhu_from_f(200, 'k')[0], suhu_from_f(200, 'k')[1])\n",
    "print('80 F to reamur -> ', suhu_from_f(80, 'r'))"
   ]
  }
 ],
 "metadata": {
  "interpreter": {
   "hash": "79cab1675c1a23ace95d31b60617287ee7bf47f3ae2c92dd1af0c950678716c0"
  },
  "kernelspec": {
   "display_name": "Python 3.10.1 64-bit",
   "language": "python",
   "name": "python3"
  },
  "language_info": {
   "codemirror_mode": {
    "name": "ipython",
    "version": 3
   },
   "file_extension": ".py",
   "mimetype": "text/x-python",
   "name": "python",
   "nbconvert_exporter": "python",
   "pygments_lexer": "ipython3",
   "version": "3.10.1"
  },
  "orig_nbformat": 4
 },
 "nbformat": 4,
 "nbformat_minor": 2
}
